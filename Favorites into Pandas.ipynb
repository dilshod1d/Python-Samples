{
 "cells": [
  {
   "cell_type": "markdown",
   "metadata": {
    "id": "LAyM38lGUpkL"
   },
   "source": [
    "## Description"
   ]
  },
  {
   "cell_type": "markdown",
   "metadata": {},
   "source": [
    "This sample Jupyter notebook is designed to demonstrate how to read the first page of the user Favorites list for this account. The list ios added to a Pandas structure where it can be easily manipulated. You get a list of exchanges and symbols that can be used in the other sample reports.\n",
    "\n",
    "You can click here to log into your Monitor+ Favorites portal where you can manage your favorite datasets and datasources.\n",
    "\n"
   ]
  },
  {
   "cell_type": "markdown",
   "metadata": {
    "id": "LAyM38lGUpkL"
   },
   "source": [
    "## Imports"
   ]
  },
  {
   "cell_type": "code",
   "execution_count": null,
   "metadata": {
    "id": "aw52ArsLUbri"
   },
   "outputs": [
    {
     "ename": "",
     "evalue": "",
     "output_type": "error",
     "traceback": [
      "\u001b[1;31mThe kernel failed to start as the Python Environment 'venv' is no longer available. Consider selecting another kernel or refreshing the list of Python Environments."
     ]
    }
   ],
   "source": [
    "# from class_source.idata_client import IData\n",
    "from API.monitorplus import IData\n",
    "import pandas as pd\n",
    "import numpy as np\n",
    "import colorama\n",
    "import matplotlib.pyplot as plt\n",
    "import warnings\n",
    "warnings.filterwarnings('ignore')"
   ]
  },
  {
   "cell_type": "code",
   "execution_count": null,
   "metadata": {},
   "outputs": [],
   "source": []
  },
  {
   "cell_type": "code",
   "execution_count": null,
   "metadata": {
    "collapsed": false
   },
   "outputs": [],
   "source": []
  },
  {
   "cell_type": "markdown",
   "metadata": {
    "id": "sObP-2EybVCt"
   },
   "source": [
    "## Global Variables"
   ]
  },
  {
   "cell_type": "code",
   "execution_count": null,
   "metadata": {
    "colab": {
     "base_uri": "https://localhost:8080/"
    },
    "id": "N19Yl28DT3ky",
    "outputId": "4a9a43d8-92db-4697-c323-53ea2c700ee7",
    "scrolled": true
   },
   "outputs": [],
   "source": [
    "# Customers API Key to use in request for data from the Monitor+ API\n",
    "API_KEY = \"VOFWM-43RCS-PUH5T-A0X8I\"\n",
    "\n",
    "# Datasets to use  in API\n",
    "# Datasource1 = \"ECBFX\"\n",
    "# DS_Symbol1 = \"EURGBP\"\n",
    "API_Datasource1 = \"IEO-CDSL\"\n",
    "API_DSSymbol1 = \"AUDUSD\"\n",
    "# Name is filled from GetValuesRC if request is successful\n",
    "DS_Name1 = \"\"\n",
    "\n",
    "# Data Scurce2 details\n",
    "# Datasource2 = \"ECBFX\"\n",
    "# DS_Symbol2 = \"EURUSD\"\n",
    "API_Datasource2 = \"IEO-CDSL\"\n",
    "API_DSSymbol2 = \"CADUSD\"\n",
    "# Name is filled from GetValuesRC if request is successful\n",
    "DS_Name2 = \"\"\n",
    "\n",
    "    "
   ]
  },
  {
   "cell_type": "markdown",
   "metadata": {
    "id": "sObP-2EybVCt"
   },
   "source": [
    "## API initialisation Code"
   ]
  },
  {
   "cell_type": "code",
   "execution_count": null,
   "metadata": {
    "colab": {
     "base_uri": "https://localhost:8080/"
    },
    "id": "N19Yl28DT3ky",
    "outputId": "4a9a43d8-92db-4697-c323-53ea2c700ee7",
    "scrolled": true
   },
   "outputs": [],
   "source": [
    "# initialise the Python class\n",
    "idata = IData()\n",
    "\n",
    "#Store the API Key in the Python Class\n",
    "idata.set_api_key(API_KEY)\n",
    "\n",
    "# We will retuen the metadata for the user favorite datasets\n",
    "result = idata.get_user_favorites()\n",
    "if (result is None):\n",
    "    print(\"Could not get the user datasources. Check terminal for errors.\")\n",
    "else:\n",
    "    print(\"Metadata for 50 User datasets was downloaded successfully.\")\n",
    "\n",
    "print(\"\")\n",
    "    "
   ]
  },
  {
   "cell_type": "markdown",
   "metadata": {
    "id": "sObP-2EybVCt"
   },
   "source": [
    "## API request market data for the 2 datasets"
   ]
  },
  {
   "cell_type": "markdown",
   "metadata": {},
   "source": [
    "The paramters to add to the API call are specified <a href=\"https://www.sarus.com/api-docs#getdatasetvaluesrc\">here</a>"
   ]
  },
  {
   "cell_type": "code",
   "execution_count": null,
   "metadata": {
    "colab": {
     "base_uri": "https://localhost:8080/"
    },
    "id": "8DoQORC7i3W4",
    "outputId": "855031ad-677c-4329-b32a-c40f47313002"
   },
   "outputs": [],
   "source": [
    "#  print(result)\n",
    "# Print  list of datasources, dataCategoriesm  symbols, descriptions,  startDate, end date, price count \n",
    "\n",
    "RC_Result = idata.get_dataset_values_rc(\n",
    "[\n",
    "    # you can change the datasource sand symbols to use in the Global Variable section above\n",
    "    {\"Datasource\": Datasource1,\"Symbol\": DS_Symbol1, \"HandleWeekends\":\"7f\"},\n",
    "    {\"Datasource\": Datasource2,\"Symbol\": DS_Symbol2, \"HandleWeekends\":\"7f\"}\n",
    "]    \n",
    ")   \n",
    "\n",
    "df = pd.DataFrame(RC_Result)\n",
    "\n",
    "# If success set the neme(s) as we use them to check if request was  successful.\n",
    "DS_Name1 = \"\"\n",
    "DS_Name2 = \"\"\n",
    "print(df)"
   ]
  },
  {
   "cell_type": "markdown",
   "metadata": {},
   "source": [
    "# Functions that help us to access the data.\n"
   ]
  },
  {
   "cell_type": "code",
   "execution_count": null,
   "metadata": {
    "id": "wcqIZKK-Ckke"
   },
   "outputs": [],
   "source": [
    "def get_daily_data(dictionary):\n",
    "\n",
    "    columns = dictionary['Columns']\n",
    "    rows = dictionary['Rows']\n",
    "    corrections = dictionary['Corrections']\n",
    "    df = pd.DataFrame(rows.values(), columns = [columns[0]['Name'], columns[1]['Name']], index = rows.keys())\n",
    "    df = df.reset_index()\n",
    "    df.rename(columns = {'index':'Date'}, inplace = True)\n",
    "    df.dropna(axis = 0, inplace = True)\n",
    "    df[\"Date\"] = pd.to_datetime(df['Date'])\n",
    "    df.insert(1, 'Year', df.Date.dt.year)\n",
    "    df.insert(2, 'Month', df.Date.dt.month)\n",
    "\n",
    "    return df\n",
    "\n",
    "def get_averages(df):\n",
    "    MthList = ['Jan', 'Feb', 'Mar', 'Apr', 'May', 'Jun', 'Jul', 'Aug', 'Sep', 'Oct', 'Nov', 'Dec']\n",
    "    MthList_upd = {i+1:word for i,word in enumerate(MthList)}\n",
    "\n",
    "    df = df.groupby(['Year', 'Month'], as_index= False).agg({\"ECB - Euro vs Pound Sterling\": np.mean, \"ECB - Euro vs US Dollar\":np.mean})\n",
    "    df['Month'] = df['Month'].replace(MthList_upd)\n",
    "    df.rename(columns = {\"ECB - Euro vs Pound Sterling\": \"ECB - Euro vs Pound Sterling Mean\", \"ECB - Euro vs US Dollar\": \"ECB - Euro vs US Dollar Mean\"}, inplace = True)\n",
    "    return df\n",
    "\n",
    "def get_processed(df):\n",
    "    MthList = ['Jan', 'Feb', 'Mar', 'Apr', 'May', 'Jun', 'Jul', 'Aug', 'Sep', 'Oct', 'Nov', 'Dec']\n",
    "    eurgbp = df.iloc[:, :-1]\n",
    "    eurusd = df.drop(columns = ['ECB - Euro vs Pound Sterling Mean'], axis = 1)\n",
    "    datas = [eurgbp, eurusd]\n",
    "    for num, data in enumerate(datas):    \n",
    "        temp = []\n",
    "        for i in range(0, len(data), 12):\n",
    "            lists = data.iloc[i:i+12, -1].values.tolist()\n",
    "            temp.append(lists)\n",
    "        datas[num] = pd.DataFrame(temp, columns = MthList, index = data.Year.unique().tolist()).round(3)\n",
    "    datas = tuple(datas)\n",
    "    \n",
    "    return datas"
   ]
  },
  {
   "cell_type": "markdown",
   "metadata": {},
   "source": [
    "# Retrieving the data into Pandas."
   ]
  },
  {
   "cell_type": "code",
   "execution_count": null,
   "metadata": {
    "colab": {
     "base_uri": "https://localhost:8080/",
     "height": 206
    },
    "id": "bctJ0XvPEQdE",
    "outputId": "28b78dfd-9786-4b1a-c77f-e62b442f4c34"
   },
   "outputs": [],
   "source": [
    "df = get_daily_data(RC_Result)\n",
    "Series1Name, Series2Name = df.columns[-2:]\n",
    "df.tail(12)"
   ]
  },
  {
   "cell_type": "markdown",
   "metadata": {},
   "source": [
    "The methods we will use require our data to be a Time-Series. That means the index of our Data-Frame has to be of type datetime. Also our data is recorded on bussiness days only, so we set frequency to \"b\", which means bussiness days."
   ]
  },
  {
   "cell_type": "code",
   "execution_count": null,
   "metadata": {},
   "outputs": [],
   "source": [
    "df[\"Date\"] = pd.to_datetime(df[\"Date\"])\n",
    "df.set_index(\"Date\", inplace=True)\n",
    "df = df.asfreq('b')\n",
    "df = df.fillna(method='ffill')"
   ]
  },
  {
   "cell_type": "markdown",
   "metadata": {},
   "source": [
    "Plotting the two Time-Series."
   ]
  },
  {
   "cell_type": "code",
   "execution_count": null,
   "metadata": {},
   "outputs": [],
   "source": [
    "df[Series1Name].plot(figsize=(20,5), title = Series1Name)\n",
    "df[Series2Name].plot(figsize=(20,5), title = Series2Name)\n",
    "plt.title(f\"{Series1Name} and {Series2Name}\")\n",
    "plt.show()"
   ]
  },
  {
   "cell_type": "markdown",
   "metadata": {},
   "source": [
    "Plotting monthly data."
   ]
  },
  {
   "cell_type": "code",
   "execution_count": null,
   "metadata": {},
   "outputs": [],
   "source": [
    "df[Series1Name].asfreq(\"D\")\\\n",
    "               .fillna(method=\"ffill\").asfreq(\"m\")\\\n",
    "               .plot(figsize=(20,5), title = Series1Name)\n",
    "df[Series2Name].asfreq(\"D\")\\\n",
    "               .fillna(method=\"ffill\").asfreq(\"m\")\\\n",
    "               .plot(figsize=(20,5), title = Series2Name)\n",
    "plt.title(\"Euro vs Pound Sterling vs Euro vs US Dollar\")\n",
    "plt.show()"
   ]
  },
  {
   "cell_type": "markdown",
   "metadata": {},
   "source": [
    "We will plot the quantile-quantile (Q-Q) plot."
   ]
  },
  {
   "cell_type": "code",
   "execution_count": null,
   "metadata": {},
   "outputs": [],
   "source": [
    "import scipy.stats\n",
    "import pylab"
   ]
  },
  {
   "cell_type": "code",
   "execution_count": null,
   "metadata": {},
   "outputs": [],
   "source": [
    "scipy.stats.probplot(df[Series1Name], plot = pylab)\n",
    "plt.title(f\"{Series1Name} QQ Plot\", size = 24)\n",
    "pylab.show()"
   ]
  },
  {
   "cell_type": "code",
   "execution_count": null,
   "metadata": {},
   "outputs": [],
   "source": [
    "scipy.stats.probplot(df[Series2Name], plot = pylab)\n",
    "plt.title(f\"{Series2Name} QQ Plot\", size = 24)\n",
    "pylab.show()"
   ]
  },
  {
   "cell_type": "markdown",
   "metadata": {},
   "source": [
    "The x-axis indicates the number of standard deviations from the mean. If the dots fit the straight line perfectly it means that the data is normally distributed. Most Time-Series are not normally distributed. The Time-Series that are normally distributed are called white-noise and are useless for most models. Hence, it is good that are Time"
   ]
  }
 ],
 "metadata": {
  "colab": {
   "collapsed_sections": [
    "LAyM38lGUpkL",
    "sObP-2EybVCt",
    "Y1DLRL3DDRqS",
    "0HlOzC9ADcnm",
    "Rn28ilWLbMeh",
    "SmlOeZpZdMOr",
    "ImmEw5v7X_fw",
    "hPqT_IYcS0c4"
   ],
   "name": "Don_G.ipynb",
   "provenance": []
  },
  "kernelspec": {
   "display_name": "Python 3.10.7 64-bit",
   "language": "python",
   "name": "python3"
  },
  "language_info": {
   "codemirror_mode": {
    "name": "ipython",
    "version": 3
   },
   "file_extension": ".py",
   "mimetype": "text/x-python",
   "name": "python",
   "nbconvert_exporter": "python",
   "pygments_lexer": "ipython3",
   "version": "3.8.16"
  },
  "vscode": {
   "interpreter": {
    "hash": "05cb10757a915ba4f0b2d61d98f17ca1a378878ad6df931e006b0b27723673f3"
   }
  }
 },
 "nbformat": 4,
 "nbformat_minor": 4
}
